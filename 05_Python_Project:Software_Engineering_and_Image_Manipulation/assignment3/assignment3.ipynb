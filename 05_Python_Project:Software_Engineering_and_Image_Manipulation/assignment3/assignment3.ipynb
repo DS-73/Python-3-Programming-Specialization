{
 "cells": [
  {
   "cell_type": "markdown",
   "metadata": {
    "deletable": false,
    "editable": false,
    "nbgrader": {
     "cell_type": "markdown",
     "checksum": "396093c37b0bd95a59aa1721aa93d3d9",
     "grade": false,
     "grade_id": "cell-e752145b912a736b",
     "locked": true,
     "schema_version": 3,
     "solution": false,
     "task": false
    }
   },
   "source": [
    "# Assignment 3: Creating a WordyPy Solver\n",
    "\n",
    "You now understand the rules of _WordyPy_ and how to read the game state from an image. Now your job is to read in a\n",
    "_WordyPy_ partial play and provide a next **good** guess. What's a good guess? A good guess is one which:\n",
    "\n",
    "1. Continues to adhere to the rules of _WordPy_\n",
    "2. Does not repeat words which have already been played\n",
    "3. Uses the knowledge of previous guesses to pick a new good word\n",
    "\n",
    "Unlike previous assignments there are no guardrails for this task -- you can complete this using whatever software\n",
    "architecture you like! In addition, I've put my code in a new module for you to import, called `wordy`. You can just\n",
    "import this module and begin making calls to it. You should be able to understand how it works by reading the module\n",
    "documentation.\n"
   ]
  },
  {
   "cell_type": "code",
   "execution_count": 8,
   "metadata": {
    "tags": []
   },
   "outputs": [],
   "source": [
    "    \n",
    "import numpy as np\n",
    "\n",
    "class DisplaySpecification:\n",
    "    \"\"\"A dataclass for holding display specifications for WordyPy. The following\n",
    "    values are defined:\n",
    "        - block_width: the width of each character in pixels\n",
    "        - block_height: the height of each character in pixels\n",
    "        - correct_location_color: the hex code to color the block when it is correct\n",
    "        - incorrect_location_color: the hex code to color the block when it is in the wrong location but exists in the string\n",
    "        - incorrect_color: the hex code to color the block when it is not in the string\n",
    "        - space_between_letters: the amount of padding to put between characters, in pixels\n",
    "        - word_color: the hex code of the background color of the string\n",
    "    \"\"\"\n",
    "\n",
    "    block_width: int = 80\n",
    "    block_height: int = 80\n",
    "    correct_location_color: str = \"#00274C\"\n",
    "    incorrect_location_color: str = \"#FFCB05\"\n",
    "    incorrect_color: str = \"#D3D3D3\"\n",
    "    space_between_letters: int = 5\n",
    "    word_color: str = \"#FFFFFF\"\n",
    "    \n",
    "# Create the implementation of the Letter class here\n",
    "class Letter:\n",
    "    def __init__(self, letter):\n",
    "        self.letter = letter\n",
    "        self.in_correct_place = False\n",
    "        self.in_word = False\n",
    "        \n",
    "    def is_in_correct_place(self):\n",
    "        return self.in_correct_place\n",
    "    def is_in_word(self):\n",
    "        return self.in_word\n",
    "    \n",
    "    def __str__(self):\n",
    "        return f'{self.letter}  {self.is_in_correct_place()}  {self.is_in_word()}'\n",
    "    \n",
    "class Bot:\n",
    "    def __init__(self, word_list_file, display_spec):\n",
    "        try: \n",
    "            with open(word_list_file, 'r') as f:\n",
    "                self.word_list = f.read().split('\\n')\n",
    "                self.word_list = [word.upper() for word in self.word_list]\n",
    "\n",
    "                # print(f'List of word: {self.word_list}')\n",
    "                # print(self.word_list)\n",
    "            self.display_spec = display_spec\n",
    "        except Exception as e: \n",
    "            print(f'Exception: {e}')\n",
    "            \n",
    "    def _tuple_to_str(self, pixels):\n",
    "        return '#{:02x}{:02x}{:02x}'.format(*pixels[:3]).upper()\n",
    "    \n",
    "    def _process_image(self, guess, guess_image):\n",
    "        # Getting image shape\n",
    "        img_array = np.array(guess_image, dtype=np.uint8)\n",
    "        letter_img_size = img_array.shape[1] // 5\n",
    "        letter_img_mid = letter_img_size // 2\n",
    "        \n",
    "        guess_results = list()\n",
    "        for i in range(5):\n",
    "            hex_code = self._tuple_to_str((img_array[0][letter_img_mid + letter_img_size * i][0],\n",
    "                                             img_array[0][letter_img_mid + letter_img_size * i][1],\n",
    "                                             img_array[0][letter_img_mid + letter_img_size * i][2]\n",
    "                                          ))\n",
    "            \n",
    "            letter = Letter(guess[i])\n",
    "            if self.display_spec.correct_location_color == hex_code:\n",
    "                letter.in_correct_place = True\n",
    "                letter.in_word = True\n",
    "            elif self.display_spec.incorrect_location_color == hex_code:\n",
    "                letter.in_correct_place = False\n",
    "                letter.in_word = True\n",
    "            else:\n",
    "                letter.in_correct_place = False\n",
    "                letter.in_word = False\n",
    "            guess_results.append(letter)\n",
    "            \n",
    "        print(f' ***** Guess Results *****')\n",
    "        print('L  Place Word')\n",
    "        for x in guess_results:\n",
    "            print(x)\n",
    "        print('*' * 10)\n",
    "        return guess_results\n",
    "    \n",
    "    def make_guess(self):        \n",
    "        import random\n",
    "        return self.word_list[random.randint(0, len(self.word_list)-1)]\n",
    "    \n",
    "    def remove_word(self, word):\n",
    "        if word in self.word_list:\n",
    "            self.word_list.remove(word)\n",
    "    \n",
    "    def record_guess_results(self, guess, guess_image):   \n",
    "        guess_results = self._process_image(guess, guess_image)\n",
    "        \n",
    "        if guess in self.word_list:\n",
    "            self.word_list.remove(guess)\n",
    "        elif guess.lower() in self.word_list:\n",
    "            self.word_list.remove(guess.lower())\n",
    "        \n",
    "        # IS NOT IN WORD\n",
    "        absent_in_word = [letterObj.letter for letterObj in guess_results if letterObj.is_in_word() is False]\n",
    "        # print(f'Absent in word: {absent_in_word}')\n",
    "\n",
    "        new_word_list = []\n",
    "        for word in self.word_list:\n",
    "            flag = True\n",
    "            for char in absent_in_word:\n",
    "                if char in word:\n",
    "                    flag = False\n",
    "                    break\n",
    "            if flag:\n",
    "                new_word_list.append(word)\n",
    "        # print(f'New word list: {new_word_list}')\n",
    "\n",
    "        # IS IN CORRECT PLACE\n",
    "        correct_place_word = {}\n",
    "        for i in range(0, len(guess_results)):\n",
    "            if guess_results[i].is_in_correct_place() is True:\n",
    "                correct_place_word[guess_results[i].letter] = i\n",
    "\n",
    "        final_list = []\n",
    "        for word in new_word_list:\n",
    "            if len(word) >= 5:\n",
    "                flag = True\n",
    "                for key, value in correct_place_word.items():\n",
    "                    if word[value] != key:\n",
    "                        flag = False\n",
    "                        break\n",
    "                if flag:\n",
    "                    final_list.append(word)\n",
    "        self.word_list = final_list\n",
    "        # print(f'Final list: {self.word_list}')\n",
    "        "
   ]
  },
  {
   "cell_type": "code",
   "execution_count": null,
   "metadata": {
    "tags": []
   },
   "outputs": [],
   "source": []
  },
  {
   "cell_type": "code",
   "execution_count": null,
   "metadata": {},
   "outputs": [],
   "source": []
  },
  {
   "cell_type": "code",
   "execution_count": 9,
   "metadata": {
    "tags": []
   },
   "outputs": [],
   "source": [
    "import wordy\n",
    "import PIL\n",
    "import numpy as np\n",
    "\n",
    "def crop_images(image):\n",
    "    display(image)\n",
    "\n",
    "    # print(f' **** Crop Image ****')\n",
    "    # Counting guesses\n",
    "    guesses = image.height // 60\n",
    "    \n",
    "    # Cropping image\n",
    "    left, upper, right, lower = 0, 0, image.width, 60\n",
    "    \n",
    "    image_list = []\n",
    "    for i in range(guesses):\n",
    "        # left, upper, right, lower\n",
    "        \n",
    "        cropped_image = image.crop([left, upper, right, lower])\n",
    "        # gray_scale_image = cropped_image.convert('L')\n",
    "        \n",
    "        # updating row \n",
    "        upper, lower = upper + 60, lower + 60\n",
    "        \n",
    "        # print(f'.' * 20)\n",
    "        # display(cropped_image)\n",
    "        image_list.append(cropped_image)\n",
    "        \n",
    "    return image_list"
   ]
  },
  {
   "cell_type": "code",
   "execution_count": 10,
   "metadata": {
    "tags": []
   },
   "outputs": [],
   "source": [
    "def guess_string(original_image):\n",
    "    # Base Image\n",
    "    image = original_image.copy()\n",
    "    \n",
    "    import pytesseract\n",
    "    # print(f'Height: {image.height}\\nWidth: {image.width}')\n",
    "    \n",
    "    # print('******** Single Row Image ********')\n",
    "    image = image.convert('L')\n",
    "    # display(image)\n",
    "\n",
    "    # Convert Image\n",
    "    new_image = bytearray(image.tobytes())\n",
    "    \n",
    "    threshold = 250\n",
    "    for location, value in enumerate(new_image):\n",
    "        if value < threshold:\n",
    "            new_image[location] = 0\n",
    "        else:\n",
    "            new_image[location] = 255\n",
    "    \n",
    "    new_image = PIL.Image.frombytes(image.mode, image.size, bytes(new_image))\n",
    "    \n",
    "    # print('******** Byte array Image ********')\n",
    "    # display(new_image)\n",
    "\n",
    "    # Removing white line between words\n",
    "    # left, upper, right, lower\n",
    "    left, upper, right, lower = 0, 0, 60, new_image.height\n",
    "    list_im = []\n",
    "    for i in range(5):\n",
    "        image_char = new_image.crop([left, upper, right, lower])\n",
    "        \n",
    "        left = left + 60 + 5\n",
    "        right = right + 60 + 5\n",
    "        \n",
    "        list_im.append(image_char)\n",
    "    merged_image = PIL.Image.new('RGB', (300, 60))\n",
    "    \n",
    "    # Merging individual characters\n",
    "    current_x = 0\n",
    "    for image in list_im:\n",
    "        merged_image.paste(image, (current_x, 0))\n",
    "        current_x += image.width\n",
    "\n",
    "    # print('******** Final Processed Image ********')\n",
    "    # display(merged_image)\n",
    "    string = pytesseract.image_to_string(merged_image)\n",
    "    # print(f'Characters: {string}')\n",
    "    \n",
    "    return string[:-1]"
   ]
  },
  {
   "cell_type": "code",
   "execution_count": null,
   "metadata": {
    "tags": []
   },
   "outputs": [],
   "source": []
  },
  {
   "cell_type": "code",
   "execution_count": null,
   "metadata": {
    "tags": []
   },
   "outputs": [],
   "source": []
  },
  {
   "cell_type": "code",
   "execution_count": 11,
   "metadata": {
    "tags": []
   },
   "outputs": [],
   "source": [
    "def correction(words):\n",
    "    new_list = []\n",
    "    for word in words:\n",
    "        string = ''\n",
    "        for ch in word:\n",
    "            if ch.isalpha():\n",
    "                string = string + ch\n",
    "        while len(string) < 5:\n",
    "            string = string + 'A'\n",
    "        new_list.append(string.upper())\n",
    "        \n",
    "    return new_list"
   ]
  },
  {
   "cell_type": "code",
   "execution_count": 12,
   "metadata": {
    "tags": []
   },
   "outputs": [],
   "source": [
    "def ocr_with_boxes(image):\n",
    "    print(f' _-----_ New CALL _-----_ ')\n",
    "    # Cropping guess from board image\n",
    "    words_image = crop_images(image) \n",
    "    \n",
    "    words = []\n",
    "    for image in words_image:\n",
    "        words.append(guess_string(image))\n",
    "    \n",
    "    print(f'Before: {words}')\n",
    "    words = correction(words)\n",
    "    print(f'After: {words}')\n",
    "    \n",
    "    b = Bot('words.txt', DisplaySpecification())\n",
    "    for i in range(len(words) - 1):\n",
    "        b.remove_word(words[i].lower())\n",
    "    \n",
    "    b.record_guess_results(words[-1], words_image[-1])\n",
    "    guess = b.make_guess()\n",
    "    return guess\n",
    "        \n",
    "#     img_array = np.array(image, dtype=np.uint8)\n",
    "#     # print(f'Height: {image.height}\\nWidth: {image.width}\\nLast Pixel:{img_array[0][-1]}')\n",
    "    \n",
    "#     acopy = image.copy()\n",
    "#     draw = PIL.ImageDraw.Draw(acopy)\n",
    "#     import pytesseract\n",
    "    \n",
    "#     for line in pytesseract.image_to_data(image).splitlines()[1:]:\n",
    "#         x,y,w,h,c = [float(p) for p in line.split('\\t')[6:11]]\n",
    "#         if c > 0:\n",
    "#             draw.rectangle((x, y, x+w, y+h), outline='red', width=2)\n",
    "#     # print(pytesseract.image_to_string(image))\n",
    "#     return acopy"
   ]
  },
  {
   "cell_type": "code",
   "execution_count": null,
   "metadata": {},
   "outputs": [],
   "source": []
  },
  {
   "cell_type": "code",
   "execution_count": null,
   "metadata": {
    "tags": []
   },
   "outputs": [],
   "source": []
  },
  {
   "cell_type": "code",
   "execution_count": null,
   "metadata": {
    "tags": []
   },
   "outputs": [],
   "source": []
  },
  {
   "cell_type": "code",
   "execution_count": 13,
   "metadata": {
    "deletable": false,
    "nbgrader": {
     "cell_type": "code",
     "checksum": "456f642a4d7c230cb02ebe5b4b37554e",
     "grade": false,
     "grade_id": "cell-e758e760b1c54767",
     "locked": false,
     "schema_version": 3,
     "solution": true,
     "task": false
    },
    "tags": []
   },
   "outputs": [],
   "source": [
    "def solution(board: PIL.Image) -> str:\n",
    "    \"\"\"The student solution to the problem.\n",
    "\n",
    "    You must write code to query the wordy module and make\n",
    "    a guess for the word. You needs to inspect the module to\n",
    "    understand how to do this, and this function should only return\n",
    "    the guess that you are going to make based on the game board state.\n",
    "\n",
    "    Returns:\n",
    "        str: The guess that you are going to make.\n",
    "    \"\"\"\n",
    "    new_guess = ocr_with_boxes(board)\n",
    "    print(f' New Guess: {new_guess}, {len(new_guess)}')\n",
    "    return new_guess"
   ]
  },
  {
   "cell_type": "code",
   "execution_count": null,
   "metadata": {},
   "outputs": [],
   "source": []
  },
  {
   "cell_type": "code",
   "execution_count": 14,
   "metadata": {
    "tags": []
   },
   "outputs": [
    {
     "name": "stdout",
     "output_type": "stream",
     "text": [
      " _-----_ New CALL _-----_ \n"
     ]
    },
    {
     "data": {
      "image/jpeg": "[encoded data removed]",
      "image/png": "[encoded data removed]",
      "text/plain": [
       "<PIL.Image.Image image mode=RGB size=320x240>"
      ]
     },
     "metadata": {},
     "output_type": "display_data"
    },
    {
     "name": "stdout",
     "output_type": "stream",
     "text": [
      "Before: ['BOUSE', 'ASSAI1', 'APPLE', 'URINE']\n",
      "After: ['BOUSE', 'ASSAI', 'APPLE', 'URINE']\n",
      " ***** Guess Results *****\n",
      "L  Place Word\n",
      "U  False  False\n",
      "R  False  False\n",
      "I  False  False\n",
      "N  False  False\n",
      "E  True  True\n",
      "**********\n",
      " New Guess: CHAPE, 5\n"
     ]
    }
   ],
   "source": [
    "for i in range(1):\n",
    "    try:\n",
    "        # Get an image of the current board state from wordy.\n",
    "        # Note that the image contains some number of random guesses (always less than 5 guesses).\n",
    "        image = wordy.get_board_state()\n",
    "        # Create a new *good* guess based on the image and rules of wordy\n",
    "        new_guess = solution(image)  # your code goes in solution()!\n",
    "        # Send that guess to wordy to make sure it doesn't throw any errors\n",
    "        wordy.make_guess(new_guess)\n",
    "    except Exception as e:\n",
    "        raise e"
   ]
  },
  {
   "cell_type": "code",
   "execution_count": 15,
   "metadata": {
    "tags": []
   },
   "outputs": [],
   "source": [
    "# def guess_string2(image):\n",
    "#     import pytesseract\n",
    "#     print(f'Height: {image.height}\\nWidth: {image.width}')\n",
    "#     display(image)\n",
    "#     string = pytesseract.image_to_string(image)\n",
    "#     print(string)\n",
    "\n",
    "#     # left, upper, right, lower\n",
    "#     left, upper, right, lower = 0, 0, 60, image.height\n",
    "    \n",
    "#     print('#'*20)\n",
    "# #     image_1 = image.crop([left, upper, right, lower])\n",
    "# #     display(image_1)\n",
    "    \n",
    "# #     image_2 = image.crop([left+60+5, upper, right+60+5, lower])\n",
    "# #     display(image_2)\n",
    "\n",
    "#     list_im = []\n",
    "#     for i in range(5):\n",
    "#         image_char = image.crop([left, upper, right, lower])\n",
    "        \n",
    "#         left = left + 60 + 5\n",
    "#         right = right + 60 + 5\n",
    "        \n",
    "#         # image_char = image_char.resize((image_char.width*4, image_char.width*4))\n",
    "#         # display(image_char)\n",
    "#         # print(f'Char :{pytesseract.image_to_string(image)}') \n",
    "#         list_im.append(image_char)\n",
    "        \n",
    "#     total_width = 300\n",
    "#     max_height = 60\n",
    "#     merged_image = PIL.Image.new('RGB', (total_width, max_height))\n",
    "#     current_x = 0\n",
    "    \n",
    "#     for image in list_im:\n",
    "#         merged_image.paste(image, (current_x, 0))\n",
    "#         current_x += image.width\n",
    "        \n",
    "#     merged_image = merged_image.convert('L')\n",
    "#     display(merged_image)\n",
    "#     string = pytesseract.image_to_string(merged_image)\n",
    "#     print(string)\n",
    "    \n",
    "#     print('#'*20)\n"
   ]
  },
  {
   "cell_type": "code",
   "execution_count": 17,
   "metadata": {
    "deletable": false,
    "editable": false,
    "nbgrader": {
     "cell_type": "code",
     "checksum": "a1eba9346dda9330e338d3ac2792c4bb",
     "grade": true,
     "grade_id": "cell-ae995a0f4243235e",
     "locked": true,
     "points": 1,
     "schema_version": 3,
     "solution": false,
     "task": false
    },
    "tags": []
   },
   "outputs": [
    {
     "name": "stdout",
     "output_type": "stream",
     "text": [
      " _-----_ New CALL _-----_ \n"
     ]
    },
    {
     "data": {
      "image/jpeg": "[encoded data removed]",
      "image/png": "[encoded data removed]",
      "text/plain": [
       "<PIL.Image.Image image mode=RGB size=320x300>"
      ]
     },
     "metadata": {},
     "output_type": "display_data"
    },
    {
     "name": "stdout",
     "output_type": "stream",
     "text": [
      "Before: ['SNOF F', 'CLONG', 'FETTE', 'CUT IN', 'REWIN']\n",
      "After: ['SNOFF', 'CLONG', 'FETTE', 'CUTIN', 'REWIN']\n",
      " ***** Guess Results *****\n",
      "L  Place Word\n",
      "R  False  False\n",
      "E  False  True\n",
      "W  False  False\n",
      "I  False  False\n",
      "N  False  False\n",
      "**********\n",
      " New Guess: EDUCT, 5\n",
      " _-----_ New CALL _-----_ \n"
     ]
    },
    {
     "data": {
      "image/jpeg": "[encoded data removed]",
      "image/png": "[encoded data removed]",
      "text/plain": [
       "<PIL.Image.Image image mode=RGB size=320x240>"
      ]
     },
     "metadata": {},
     "output_type": "display_data"
    },
    {
     "name": "stdout",
     "output_type": "stream",
     "text": [
      "Before: ['PREDY', 'LAITY', 'WHAAP', 'L\\n\\nPSE']\n",
      "After: ['PREDY', 'LAITY', 'WHAAP', 'LPSEA']\n",
      " ***** Guess Results *****\n",
      "L  Place Word\n",
      "L  False  False\n",
      "P  True  True\n",
      "S  False  False\n",
      "E  False  True\n",
      "A  False  False\n",
      "**********\n",
      " New Guess: EPURE, 5\n",
      " _-----_ New CALL _-----_ \n"
     ]
    },
    {
     "data": {
      "image/jpeg": "[encoded data removed]",
      "image/png": "[encoded data removed]",
      "text/plain": [
       "<PIL.Image.Image image mode=RGB size=320x60>"
      ]
     },
     "metadata": {},
     "output_type": "display_data"
    },
    {
     "name": "stdout",
     "output_type": "stream",
     "text": [
      "Before: ['WITTY']\n",
      "After: ['WITTY']\n",
      " ***** Guess Results *****\n",
      "L  Place Word\n",
      "W  False  False\n",
      "I  False  False\n",
      "T  False  False\n",
      "T  False  False\n",
      "Y  False  True\n",
      "**********\n",
      " New Guess: DEFER, 5\n",
      " _-----_ New CALL _-----_ \n"
     ]
    },
    {
     "data": {
      "image/jpeg": "[encoded data removed]",
      "image/png": "[encoded data removed]",
      "text/plain": [
       "<PIL.Image.Image image mode=RGB size=320x180>"
      ]
     },
     "metadata": {},
     "output_type": "display_data"
    },
    {
     "name": "stdout",
     "output_type": "stream",
     "text": [
      "Before: ['LIPSE', 'BAGUE', 'SEPIC']\n",
      "After: ['LIPSE', 'BAGUE', 'SEPIC']\n",
      " ***** Guess Results *****\n",
      "L  Place Word\n",
      "S  False  False\n",
      "E  False  True\n",
      "P  False  False\n",
      "I  False  False\n",
      "C  False  False\n",
      "**********\n",
      " New Guess: BENDY, 5\n",
      " _-----_ New CALL _-----_ \n"
     ]
    },
    {
     "data": {
      "image/jpeg": "[encoded data removed]",
      "image/png": "[encoded data removed]",
      "text/plain": [
       "<PIL.Image.Image image mode=RGB size=320x300>"
      ]
     },
     "metadata": {},
     "output_type": "display_data"
    },
    {
     "name": "stdout",
     "output_type": "stream",
     "text": [
      "Before: ['DOZER', 'MAR 1\\n\\nE', 'POS IT', 'HOUR 1', 'OUGHT']\n",
      "After: ['DOZER', 'MAREA', 'POSIT', 'HOURA', 'OUGHT']\n",
      " ***** Guess Results *****\n",
      "L  Place Word\n",
      "O  False  False\n",
      "U  False  False\n",
      "G  False  False\n",
      "H  False  False\n",
      "T  False  False\n",
      "**********\n",
      " New Guess: FLEME, 5\n"
     ]
    }
   ],
   "source": [
    "# The autograder for this assignment is easy, it will try and play\n",
    "# a few rounds of the game and ensure that errors are not thrown. If\n",
    "# you can make it through five rounds we'll assume you have the right\n",
    "# solution!\n",
    "#\n",
    "# You SHOULD NOT change anything in the wordy module, instead you\n",
    "# must figure out how to write the solution() function in this notebook\n",
    "# to make a good guess based on the board state!\n",
    "\n",
    "for i in range(5):\n",
    "    try:\n",
    "        # Get an image of the current board state from wordy.\n",
    "        # Note that the image contains some number of random guesses (always less than 5 guesses).\n",
    "        image = wordy.get_board_state()\n",
    "        # Create a new *good* guess based on the image and rules of wordy\n",
    "        new_guess = solution(image)  # your code goes in solution()!\n",
    "        # Send that guess to wordy to make sure it doesn't throw any errors\n",
    "        wordy.make_guess(new_guess)\n",
    "    except Exception as e:\n",
    "        raise e"
   ]
  },
  {
   "cell_type": "code",
   "execution_count": null,
   "metadata": {},
   "outputs": [],
   "source": []
  },
  {
   "cell_type": "code",
   "execution_count": null,
   "metadata": {},
   "outputs": [],
   "source": []
  },
  {
   "cell_type": "code",
   "execution_count": null,
   "metadata": {},
   "outputs": [],
   "source": []
  },
  {
   "cell_type": "code",
   "execution_count": null,
   "metadata": {},
   "outputs": [],
   "source": []
  },
  {
   "cell_type": "code",
   "execution_count": null,
   "metadata": {},
   "outputs": [],
   "source": []
  },
  {
   "cell_type": "code",
   "execution_count": null,
   "metadata": {},
   "outputs": [],
   "source": []
  },
  {
   "cell_type": "code",
   "execution_count": null,
   "metadata": {},
   "outputs": [],
   "source": []
  }
 ],
 "metadata": {
  "kernelspec": {
   "display_name": "Python 3 (ipykernel)",
   "language": "python",
   "name": "python3"
  },
  "language_info": {
   "codemirror_mode": {
    "name": "ipython",
    "version": 3
   },
   "file_extension": ".py",
   "mimetype": "text/x-python",
   "name": "python",
   "nbconvert_exporter": "python",
   "pygments_lexer": "ipython3",
   "version": "3.11.6"
  },
  "vscode": {
   "interpreter": {
    "hash": "e42e32cf910e3ef8621fd44f66925230a95020be1defc7567e14c59ff2dff1ed"
   }
  }
 },
 "nbformat": 4,
 "nbformat_minor": 4
}
